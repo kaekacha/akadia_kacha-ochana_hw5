{
 "cells": [
  {
   "cell_type": "markdown",
   "metadata": {},
   "source": [
    "# Akadia Kacha-Ochana Pymaceuticals Assignment¶\n"
   ]
  },
  {
   "cell_type": "markdown",
   "metadata": {},
   "source": [
    "## Observations and Insights "
   ]
  },
  {
   "cell_type": "markdown",
   "metadata": {},
   "source": [
    "Submitted 1/30/2021\n",
    "\n",
    "Three observable trends based on the data outputs below:\n",
    "\n",
    "1. The drugs Capomulin and Ramicane seemed to have the most data (e.g., timepoints collected), they also had the lowest central tendancy measures of tumor volume across mice, and they also had the smallest standard deviations from the mean, indicating that these two drugs might have the highest potential to consistently reduce tumor volume.\n",
    "2. Average tumor volume was stronlgy postively correalated with average weight, which makes senes--as tumor volume increases in mass, the mouse's measured weight also increases.\n",
    "3. Comparisons between Capomulin and Ramicane may be warranted in order to better understand which is most effective in keeping tumor size low and which causes the least adverse harm to the mice."
   ]
  },
  {
   "cell_type": "code",
   "execution_count": 22,
   "metadata": {},
   "outputs": [],
   "source": [
    "# Dependencies and Setup\n",
    "import matplotlib.pyplot as plt\n",
    "import pandas as pd\n",
    "import scipy.stats as st\n",
    "import numpy as np\n",
    "from scipy.stats import linregress"
   ]
  },
  {
   "cell_type": "code",
   "execution_count": 23,
   "metadata": {},
   "outputs": [],
   "source": [
    "# Read Data files and create data frames\n",
    "mouse_metadata = pd.read_csv(\"Data/Mouse_metadata.csv\")\n",
    "study_results = pd.read_csv(\"Data/Study_results.csv\")"
   ]
  },
  {
   "cell_type": "code",
   "execution_count": 24,
   "metadata": {},
   "outputs": [
    {
     "data": {
      "text/plain": [
       "Mouse ID        249\n",
       "Drug Regimen    249\n",
       "Sex             249\n",
       "Age_months      249\n",
       "Weight (g)      249\n",
       "dtype: int64"
      ]
     },
     "execution_count": 24,
     "metadata": {},
     "output_type": "execute_result"
    }
   ],
   "source": [
    "#Assess any duplicate data in mouse_metadata\n",
    "mouse_metadata.head()\n",
    "mouse_metadata.count()\n",
    "#mouse_metadata[\"Mouse ID\"].unique()"
   ]
  },
  {
   "cell_type": "code",
   "execution_count": 25,
   "metadata": {},
   "outputs": [
    {
     "data": {
      "text/plain": [
       "g989    13\n",
       "i635    10\n",
       "w914    10\n",
       "o562    10\n",
       "j984    10\n",
       "        ..\n",
       "x226     1\n",
       "l872     1\n",
       "h428     1\n",
       "v199     1\n",
       "t573     1\n",
       "Name: Mouse ID, Length: 249, dtype: int64"
      ]
     },
     "execution_count": 25,
     "metadata": {},
     "output_type": "execute_result"
    }
   ],
   "source": [
    "#Assess any duplicate data in mouse_metadata\n",
    "study_results.head()\n",
    "study_results[\"Mouse ID\"].value_counts() \n",
    "    #notice at least one mouse has duplicate time points (since time points for g989 is 13--but each mouse should only have 10 observations total)"
   ]
  },
  {
   "cell_type": "code",
   "execution_count": 26,
   "metadata": {},
   "outputs": [
    {
     "data": {
      "text/plain": [
       "g989    13\n",
       "u364    10\n",
       "k862    10\n",
       "q511    10\n",
       "l700    10\n",
       "        ..\n",
       "x336     1\n",
       "t573     1\n",
       "o848     1\n",
       "d133     1\n",
       "h428     1\n",
       "Name: Mouse ID, Length: 249, dtype: int64"
      ]
     },
     "execution_count": 26,
     "metadata": {},
     "output_type": "execute_result"
    }
   ],
   "source": [
    "#Combine the two dataframes into a single dataframe\n",
    "df = pd.merge(mouse_metadata, study_results, on=\"Mouse ID\", suffixes=(\"_meta\", \"_study\"), how=\"inner\")\n",
    "df[\"Mouse ID\"].value_counts()\n",
    "    #I still have 249 mice after the merge\n",
    "    #checked merge by changing the \"how\" optional paramater to \"outer\", \"right\", \"left\"--and I get the same counts for either type of merge\n",
    "    #so I keep the default \"inner\" join"
   ]
  },
  {
   "cell_type": "code",
   "execution_count": 27,
   "metadata": {},
   "outputs": [
    {
     "data": {
      "text/plain": [
       "j296    10\n",
       "k894    10\n",
       "z795    10\n",
       "k862    10\n",
       "q511    10\n",
       "        ..\n",
       "x336     1\n",
       "t573     1\n",
       "o848     1\n",
       "d133     1\n",
       "h428     1\n",
       "Name: Mouse ID, Length: 248, dtype: int64"
      ]
     },
     "execution_count": 27,
     "metadata": {},
     "output_type": "execute_result"
    }
   ],
   "source": [
    "# Get the ID number for mouse that has duplicate Mouse ID and Timepoint, and clean it out of the dataset \n",
    "test_df=df.duplicated(['Mouse ID', 'Timepoint'], keep=False)\n",
    "    #found which mouse ID and timepoints are repeated\n",
    "df2 = df.loc[df[\"Mouse ID\"] == \"g989\", :]\n",
    "     #used this formula to find all index values associated with Mouse ID g989\n",
    "df=df.drop([908,909,910,911,912,913,914,915,916,917,918,919,920])\n",
    "    #used this formula to drop all the indeces associated with Mouse ID g989\n",
    "df[\"Mouse ID\"].value_counts()\n",
    "    #now the number of mic is 248, one less than the original 249 since we dropped mouse g989"
   ]
  },
  {
   "cell_type": "markdown",
   "metadata": {},
   "source": [
    "## Summary Statistics"
   ]
  },
  {
   "cell_type": "code",
   "execution_count": 28,
   "metadata": {},
   "outputs": [
    {
     "data": {
      "text/html": [
       "<div>\n",
       "<style scoped>\n",
       "    .dataframe tbody tr th:only-of-type {\n",
       "        vertical-align: middle;\n",
       "    }\n",
       "\n",
       "    .dataframe tbody tr th {\n",
       "        vertical-align: top;\n",
       "    }\n",
       "\n",
       "    .dataframe thead th {\n",
       "        text-align: right;\n",
       "    }\n",
       "</style>\n",
       "<table border=\"1\" class=\"dataframe\">\n",
       "  <thead>\n",
       "    <tr style=\"text-align: right;\">\n",
       "      <th></th>\n",
       "      <th>Mean</th>\n",
       "      <th>Median</th>\n",
       "      <th>Variance</th>\n",
       "      <th>Standard Deviation</th>\n",
       "      <th>SEM</th>\n",
       "    </tr>\n",
       "    <tr>\n",
       "      <th>Drug Regimen</th>\n",
       "      <th></th>\n",
       "      <th></th>\n",
       "      <th></th>\n",
       "      <th></th>\n",
       "      <th></th>\n",
       "    </tr>\n",
       "  </thead>\n",
       "  <tbody>\n",
       "    <tr>\n",
       "      <th>Capomulin</th>\n",
       "      <td>40.675741</td>\n",
       "      <td>41.557809</td>\n",
       "      <td>24.947764</td>\n",
       "      <td>4.994774</td>\n",
       "      <td>0.329346</td>\n",
       "    </tr>\n",
       "    <tr>\n",
       "      <th>Ceftamin</th>\n",
       "      <td>52.591172</td>\n",
       "      <td>51.776157</td>\n",
       "      <td>39.290177</td>\n",
       "      <td>6.268188</td>\n",
       "      <td>0.469821</td>\n",
       "    </tr>\n",
       "    <tr>\n",
       "      <th>Infubinol</th>\n",
       "      <td>52.884795</td>\n",
       "      <td>51.820584</td>\n",
       "      <td>43.128684</td>\n",
       "      <td>6.567243</td>\n",
       "      <td>0.492236</td>\n",
       "    </tr>\n",
       "    <tr>\n",
       "      <th>Ketapril</th>\n",
       "      <td>55.235638</td>\n",
       "      <td>53.698743</td>\n",
       "      <td>68.553577</td>\n",
       "      <td>8.279709</td>\n",
       "      <td>0.603860</td>\n",
       "    </tr>\n",
       "    <tr>\n",
       "      <th>Naftisol</th>\n",
       "      <td>54.331565</td>\n",
       "      <td>52.509285</td>\n",
       "      <td>66.173479</td>\n",
       "      <td>8.134708</td>\n",
       "      <td>0.596466</td>\n",
       "    </tr>\n",
       "    <tr>\n",
       "      <th>Placebo</th>\n",
       "      <td>54.033581</td>\n",
       "      <td>52.288934</td>\n",
       "      <td>61.168083</td>\n",
       "      <td>7.821003</td>\n",
       "      <td>0.581331</td>\n",
       "    </tr>\n",
       "    <tr>\n",
       "      <th>Propriva</th>\n",
       "      <td>52.320930</td>\n",
       "      <td>50.446266</td>\n",
       "      <td>43.852013</td>\n",
       "      <td>6.622085</td>\n",
       "      <td>0.544332</td>\n",
       "    </tr>\n",
       "    <tr>\n",
       "      <th>Ramicane</th>\n",
       "      <td>40.216745</td>\n",
       "      <td>40.673236</td>\n",
       "      <td>23.486704</td>\n",
       "      <td>4.846308</td>\n",
       "      <td>0.320955</td>\n",
       "    </tr>\n",
       "    <tr>\n",
       "      <th>Stelasyn</th>\n",
       "      <td>54.233149</td>\n",
       "      <td>52.431737</td>\n",
       "      <td>59.450562</td>\n",
       "      <td>7.710419</td>\n",
       "      <td>0.573111</td>\n",
       "    </tr>\n",
       "    <tr>\n",
       "      <th>Zoniferol</th>\n",
       "      <td>53.236507</td>\n",
       "      <td>51.818479</td>\n",
       "      <td>48.533355</td>\n",
       "      <td>6.966589</td>\n",
       "      <td>0.516398</td>\n",
       "    </tr>\n",
       "  </tbody>\n",
       "</table>\n",
       "</div>"
      ],
      "text/plain": [
       "                   Mean     Median   Variance  Standard Deviation       SEM\n",
       "Drug Regimen                                                               \n",
       "Capomulin     40.675741  41.557809  24.947764            4.994774  0.329346\n",
       "Ceftamin      52.591172  51.776157  39.290177            6.268188  0.469821\n",
       "Infubinol     52.884795  51.820584  43.128684            6.567243  0.492236\n",
       "Ketapril      55.235638  53.698743  68.553577            8.279709  0.603860\n",
       "Naftisol      54.331565  52.509285  66.173479            8.134708  0.596466\n",
       "Placebo       54.033581  52.288934  61.168083            7.821003  0.581331\n",
       "Propriva      52.320930  50.446266  43.852013            6.622085  0.544332\n",
       "Ramicane      40.216745  40.673236  23.486704            4.846308  0.320955\n",
       "Stelasyn      54.233149  52.431737  59.450562            7.710419  0.573111\n",
       "Zoniferol     53.236507  51.818479  48.533355            6.966589  0.516398"
      ]
     },
     "execution_count": 28,
     "metadata": {},
     "output_type": "execute_result"
    }
   ],
   "source": [
    "# Generate a summary statistics table of mean, median, variance, standard deviation, and SEM of the tumor volume for each regimen\n",
    "df_grouped = df.groupby(\"Drug Regimen\")\n",
    "volume_mean=df_grouped['Tumor Volume (mm3)'].mean()\n",
    "volume_median=df_grouped['Tumor Volume (mm3)'].median()\n",
    "volume_std=df_grouped['Tumor Volume (mm3)'].std()\n",
    "volume_variance=volume_std*volume_std\n",
    "volume_sem=df_grouped['Tumor Volume (mm3)'].sem()\n",
    "\n",
    "#Create a dataframe to summarize the statistics\n",
    "df_grp_summary = pd.DataFrame({'Mean': volume_mean, 'Median': volume_median,'Variance': volume_variance,'Standard Deviation': volume_std, 'SEM': volume_sem})\n",
    "df_grp_summary.head(10)"
   ]
  },
  {
   "cell_type": "markdown",
   "metadata": {},
   "source": [
    "## Bar and Pie Charts"
   ]
  },
  {
   "cell_type": "code",
   "execution_count": 29,
   "metadata": {},
   "outputs": [
    {
     "data": {
      "image/png": "[encoded data removed]",
      "text/plain": [
       "<Figure size 432x288 with 1 Axes>"
      ]
     },
     "metadata": {
      "needs_background": "light"
     },
     "output_type": "display_data"
    }
   ],
   "source": [
    "# Generate a bar plot showing the total number of measurements taken on each drug regimen using pandas.\n",
    "tot_measures=df_grouped[\"Timepoint\"].count()\n",
    "    #this creates a variable for the total measures by drug regimen\n",
    "#print(tot_measures)\n",
    "bar_pd=tot_measures.plot(kind=\"bar\", title=\"Total Number of Measurements per Drug Regimen\",color='r',alpha=0.5,rot=45,ylabel=\"Number of measurements\",ylim=[0,250],width=0.8)\n",
    "    #use pandas for all the arguments to produce the plot below\n",
    "plt.show()"
   ]
  },
  {
   "cell_type": "code",
   "execution_count": 30,
   "metadata": {},
   "outputs": [
    {
     "data": {
      "image/png": "[encoded data removed]",
      "text/plain": [
       "<Figure size 432x288 with 1 Axes>"
      ]
     },
     "metadata": {
      "needs_background": "light"
     },
     "output_type": "display_data"
    }
   ],
   "source": [
    "# Generate a bar plot showing the total number of measurements taken on each drug regimen using pyplot.\n",
    "tot_measures=df_grouped[\"Timepoint\"].count()\n",
    "    #this creates a variable for the total measures by drug regimen\n",
    "#print(tot_measures)\n",
    "plt.bar([\"Capomulin\",\"Ceftamin\",\"Infubinol\",\"Ketapril\",\"Naftisol\",\"Placebo\",\"Propriva\",\"Ramicane\",\"Stelasyn\",\"Zoniferol\"],tot_measures, color='r', alpha=0.5, align=\"center\", width=0.8)\n",
    "plt.xticks(rotation=45)\n",
    "plt.xlabel(\"Drug Regimen\")\n",
    "plt.ylabel(\"Number of Measurements\")\n",
    "plt.title(\"Total Number of Measurements per Drug Regimen\")\n",
    "plt.ylim(0, 250)\n",
    "    #use matplotlib for all the arguments to produce a plot similar to the one above\n",
    "plt.show()"
   ]
  },
  {
   "cell_type": "code",
   "execution_count": 31,
   "metadata": {},
   "outputs": [
    {
     "data": {
      "image/png": "[encoded data removed]",
      "text/plain": [
       "<Figure size 432x288 with 1 Axes>"
      ]
     },
     "metadata": {},
     "output_type": "display_data"
    }
   ],
   "source": [
    "# Generate a pie plot showing the distribution of female versus male mice using pandas\n",
    "df_gender_grp=df.groupby(\"Sex\")\n",
    "gender_count=df_gender_grp.count()\n",
    "#print(gender_count)\n",
    "pie_pd=gender_count.plot(kind=\"pie\", y=\"Mouse ID\",title=\"Distribution of Female and Male Mice in the Study\",autopct=\"%1.1f%%\", startangle=90, legend=\"\", ylabel=\"\",)\n",
    "    #use pandas for all the arguments to produce the plot below\n",
    "    #added empty values in the end of the pie_pd argument to get rid of extra text\n",
    "plt.show()"
   ]
  },
  {
   "cell_type": "code",
   "execution_count": 32,
   "metadata": {},
   "outputs": [
    {
     "data": {
      "image/png": "[encoded data removed]",
      "text/plain": [
       "<Figure size 432x288 with 1 Axes>"
      ]
     },
     "metadata": {},
     "output_type": "display_data"
    }
   ],
   "source": [
    "# Generate a pie plot showing the distribution of female versus male mice using pyplot\n",
    "plt.pie([922,958], labels=[\"Female\",\"Male\"], autopct=\"%1.1f%%\",startangle=90)\n",
    "plt.axis(\"equal\")\n",
    "plt.title(\"Distribution of Female and Male Mice in the Study\")\n",
    "plt.show()"
   ]
  },
  {
   "cell_type": "markdown",
   "metadata": {},
   "source": [
    "## Quartiles, Outliers and Boxplots"
   ]
  },
  {
   "cell_type": "code",
   "execution_count": 33,
   "metadata": {},
   "outputs": [
    {
     "data": {
      "text/html": [
       "<div>\n",
       "<style scoped>\n",
       "    .dataframe tbody tr th:only-of-type {\n",
       "        vertical-align: middle;\n",
       "    }\n",
       "\n",
       "    .dataframe tbody tr th {\n",
       "        vertical-align: top;\n",
       "    }\n",
       "\n",
       "    .dataframe thead th {\n",
       "        text-align: right;\n",
       "    }\n",
       "</style>\n",
       "<table border=\"1\" class=\"dataframe\">\n",
       "  <thead>\n",
       "    <tr style=\"text-align: right;\">\n",
       "      <th></th>\n",
       "      <th>Mouse ID</th>\n",
       "      <th>Drug Regimen</th>\n",
       "      <th>Sex</th>\n",
       "      <th>Age_months</th>\n",
       "      <th>Weight (g)</th>\n",
       "      <th>Timepoint_df</th>\n",
       "      <th>Tumor Volume (mm3)</th>\n",
       "      <th>Metastatic Sites</th>\n",
       "      <th>Timepoint_max</th>\n",
       "    </tr>\n",
       "  </thead>\n",
       "  <tbody>\n",
       "    <tr>\n",
       "      <th>0</th>\n",
       "      <td>k403</td>\n",
       "      <td>Ramicane</td>\n",
       "      <td>Male</td>\n",
       "      <td>21</td>\n",
       "      <td>16</td>\n",
       "      <td>0</td>\n",
       "      <td>45.000000</td>\n",
       "      <td>0</td>\n",
       "      <td>45</td>\n",
       "    </tr>\n",
       "    <tr>\n",
       "      <th>1</th>\n",
       "      <td>k403</td>\n",
       "      <td>Ramicane</td>\n",
       "      <td>Male</td>\n",
       "      <td>21</td>\n",
       "      <td>16</td>\n",
       "      <td>5</td>\n",
       "      <td>38.825898</td>\n",
       "      <td>0</td>\n",
       "      <td>45</td>\n",
       "    </tr>\n",
       "    <tr>\n",
       "      <th>2</th>\n",
       "      <td>k403</td>\n",
       "      <td>Ramicane</td>\n",
       "      <td>Male</td>\n",
       "      <td>21</td>\n",
       "      <td>16</td>\n",
       "      <td>10</td>\n",
       "      <td>35.014271</td>\n",
       "      <td>1</td>\n",
       "      <td>45</td>\n",
       "    </tr>\n",
       "    <tr>\n",
       "      <th>3</th>\n",
       "      <td>k403</td>\n",
       "      <td>Ramicane</td>\n",
       "      <td>Male</td>\n",
       "      <td>21</td>\n",
       "      <td>16</td>\n",
       "      <td>15</td>\n",
       "      <td>34.223992</td>\n",
       "      <td>1</td>\n",
       "      <td>45</td>\n",
       "    </tr>\n",
       "    <tr>\n",
       "      <th>4</th>\n",
       "      <td>k403</td>\n",
       "      <td>Ramicane</td>\n",
       "      <td>Male</td>\n",
       "      <td>21</td>\n",
       "      <td>16</td>\n",
       "      <td>20</td>\n",
       "      <td>32.997729</td>\n",
       "      <td>1</td>\n",
       "      <td>45</td>\n",
       "    </tr>\n",
       "  </tbody>\n",
       "</table>\n",
       "</div>"
      ],
      "text/plain": [
       "  Mouse ID Drug Regimen   Sex  Age_months  Weight (g)  Timepoint_df  \\\n",
       "0     k403     Ramicane  Male          21          16             0   \n",
       "1     k403     Ramicane  Male          21          16             5   \n",
       "2     k403     Ramicane  Male          21          16            10   \n",
       "3     k403     Ramicane  Male          21          16            15   \n",
       "4     k403     Ramicane  Male          21          16            20   \n",
       "\n",
       "   Tumor Volume (mm3)  Metastatic Sites  Timepoint_max  \n",
       "0           45.000000                 0             45  \n",
       "1           38.825898                 0             45  \n",
       "2           35.014271                 1             45  \n",
       "3           34.223992                 1             45  \n",
       "4           32.997729                 1             45  "
      ]
     },
     "execution_count": 33,
     "metadata": {},
     "output_type": "execute_result"
    }
   ],
   "source": [
    "# Get the last (max) timepoint for each mouse\n",
    "df_final_tp=pd.DataFrame(df.groupby([\"Mouse ID\"])[\"Timepoint\"].max())\n",
    "df_final_tp.count()\n",
    "    #Check to see that there are 248 mice with a column for highest timepoint\n",
    "\n",
    "final_tp_df = pd.merge(df, df_final_tp, on='Mouse ID',suffixes=(\"_df\", \"_max\"))\n",
    "final_tp_df.head()\n",
    "    #Merge grouped df with the original dataframe to get a column for the latest timepoint"
   ]
  },
  {
   "cell_type": "code",
   "execution_count": 34,
   "metadata": {},
   "outputs": [
    {
     "name": "stdout",
     "output_type": "stream",
     "text": [
      "For Capomulin:\n",
      "The lower quartile of the last recorded tumor volume is: 32.38\n",
      "The upper quartile of the last recorded tumor volume is: 40.16\n",
      "The interquartile range of the last recorded tumor volume is: 7.78\n",
      "The the median of the last recorded tumor volume is: 38.13 \n",
      "Values below 20.70 and above 51.83 would be outliers.\n",
      "Capomulin has 0 outlier(s).\n",
      "For Ramicane:\n",
      "The lower quartile of the last recorded tumor volume is: 31.56\n",
      "The upper quartile of the last recorded tumor volume is: 40.66\n",
      "The interquartile range of the last recorded tumor volume is: 9.10\n",
      "The the median of the last recorded tumor volume is: 36.56 \n",
      "Values below 17.91 and above 54.31 would be outliers.\n",
      "Ramicane has 0 outlier(s).\n",
      "For Infubinol:\n",
      "The lower quartile of the last recorded tumor volume is: 54.05\n",
      "The upper quartile of the last recorded tumor volume is: 65.53\n",
      "The interquartile range of the last recorded tumor volume is: 11.48\n",
      "The the median of the last recorded tumor volume is: 60.17 \n",
      "Values below 36.83 and above 82.74 would be outliers.\n",
      "Infubinol has 1 outlier(s).\n",
      "For Ceftamin:\n",
      "The lower quartile of the last recorded tumor volume is: 48.72\n",
      "The upper quartile of the last recorded tumor volume is: 64.30\n",
      "The interquartile range of the last recorded tumor volume is: 15.58\n",
      "The the median of the last recorded tumor volume is: 59.85 \n",
      "Values below 25.36 and above 87.67 would be outliers.\n",
      "Ceftamin has 0 outlier(s).\n"
     ]
    }
   ],
   "source": [
    "#Calculate the final tumor volume of each mouse across four of the treatment regimens:  \n",
    "    #Capomulin, Ramicane, Infubinol, and Ceftamin\n",
    "\n",
    "#Put treatments into a list for a for loop (and later for plot labels)\n",
    "#Create empty list to fill with tumor vol data (for plotting)\n",
    "#Calculate the IQR and quantitatively determine if there are any potential outliers. \n",
    "drugs = ['Capomulin', 'Ramicane', 'Infubinol', 'Ceftamin']\n",
    "last_vol = [] #this list will hold the last time point tumor volume in the for loop\n",
    "count=0 #this count variable will be used to count outliers in the for loop\n",
    "\n",
    "for drug in drugs:\n",
    "    drug_df = final_tp_df.loc[final_tp_df['Drug Regimen'] == drug]\n",
    "    final_vol_df = drug_df.loc[drug_df['Timepoint_df'] == drug_df['Timepoint_max']]\n",
    "    last_vol.append(final_vol_df['Tumor Volume (mm3)'])\n",
    "    \n",
    "    #used quartile calculations and print sentences from class assignment\n",
    "    quartiles = (final_vol_df['Tumor Volume (mm3)']).quantile([.25,.5,.75])\n",
    "    lowerq = quartiles[0.25]\n",
    "    upperq = quartiles[0.75]\n",
    "    iqr = upperq-lowerq\n",
    "    lower_bound = lowerq - (1.5*iqr)\n",
    "    upper_bound = upperq + (1.5*iqr) \n",
    "    \n",
    "    #added a for loop to calculate the number of ouliers (e.g., values less than the lower bound\n",
    "        #and values larger than the upper bound)\n",
    "    for x in final_vol_df['Tumor Volume (mm3)']:\n",
    "        if x < lower_bound or x > upper_bound:\n",
    "            count+=1\n",
    "            \n",
    "    print(f\"For {drug}:\")\n",
    "    print(f\"The lower quartile of the last recorded tumor volume is: {lowerq:.2f}\")#used this formatting to cut the decimal at 2 decimal places\n",
    "    print(f\"The upper quartile of the last recorded tumor volume is: {upperq:.2f}\")\n",
    "    print(f\"The interquartile range of the last recorded tumor volume is: {iqr:.2f}\")\n",
    "    print(f\"The the median of the last recorded tumor volume is: {quartiles[0.5]:.2f} \")\n",
    "    print(f\"Values below {lower_bound:.2f} and above {upper_bound:.2f} would be outliers.\")\n",
    "    print(f\"{drug} has {count} outlier(s).\")\n",
    "    \n",
    "    count=0 #this resets the counter for the next drug in the for loop.     "
   ]
  },
  {
   "cell_type": "code",
   "execution_count": 35,
   "metadata": {},
   "outputs": [
    {
     "data": {
      "image/png": "[encoded data removed]",
      "text/plain": [
       "<Figure size 432x288 with 1 Axes>"
      ]
     },
     "metadata": {
      "needs_background": "light"
     },
     "output_type": "display_data"
    }
   ],
   "source": [
    "#Generate a box plot of the final tumor volume of each mouse across four regimens of interest\n",
    "#used codes from class activity\n",
    "fig1, ax1 = plt.subplots()\n",
    "ax1.set_title('Tumor Volume at Latest Timepoint of Drug Regimen')\n",
    "ax1.set_ylabel('Tumor Volume (mm3)')\n",
    "ax1.set_xlabel('Drug Regimen')\n",
    "ax1.boxplot(last_vol)\n",
    "plt.xticks([1, 2, 3, 4], ['Capomulin', 'Ramicane', 'Infubinol', 'Ceftamin'])\n",
    "plt.show()\n",
    "#note that the outlier mentioned above for Infubinol is noted in the box plot below by an open circle."
   ]
  },
  {
   "cell_type": "markdown",
   "metadata": {},
   "source": [
    "## Line and Scatter Plots"
   ]
  },
  {
   "cell_type": "code",
   "execution_count": 36,
   "metadata": {},
   "outputs": [
    {
     "data": {
      "image/png": "[encoded data removed]",
      "text/plain": [
       "<Figure size 432x288 with 1 Axes>"
      ]
     },
     "metadata": {
      "needs_background": "light"
     },
     "output_type": "display_data"
    }
   ],
   "source": [
    "#Generate a line plot of tumor volume vs. time point for a mouse treated with Capomulin\n",
    "df_capo=df.loc[df[\"Drug Regimen\"]==\"Capomulin\"]\n",
    "    #filter the original datframe by the drug\n",
    "df_capo.head()\n",
    "df_capo.value_counts()\n",
    "    #run this to see which mice are in the dataframe filtered by the drug Capomulin\n",
    "df_capo_r944=df_capo.loc[df_capo[\"Mouse ID\"]==\"r944\"]\n",
    "\n",
    "plt.plot(df_capo_r944[\"Timepoint\"],df_capo_r944[\"Tumor Volume (mm3)\"])\n",
    "#plt.xlabel(\"Timepoint\")\n",
    "#plt.ylabel(\"Tumor Volume (mm3)\")\n",
    "#plt.title(\"Mouse r944 Trajectory of Tumor Volume, Capomulin-treated\")\n",
    "plt.show()"
   ]
  },
  {
   "cell_type": "code",
   "execution_count": 37,
   "metadata": {},
   "outputs": [
    {
     "data": {
      "image/png": "[encoded data removed]",
      "text/plain": [
       "<Figure size 432x288 with 1 Axes>"
      ]
     },
     "metadata": {
      "needs_background": "light"
     },
     "output_type": "display_data"
    }
   ],
   "source": [
    "# Generate a scatter plot of average tumor volume vs. mouse weight for the Capomulin regimen\n",
    "df_capo_mice_tumavg=pd.DataFrame(df_capo.groupby([\"Mouse ID\"])[\"Tumor Volume (mm3)\"].mean())\n",
    "df_capo_mice_tumavg.head()\n",
    "\n",
    "df_capo_mice_weight=pd.DataFrame(df_capo.groupby([\"Mouse ID\"])[\"Weight (g)\"].mean())\n",
    "df_capo_mice_weight.head()\n",
    "\n",
    "df_capo_avg=pd.merge(df_capo_mice_tumavg,df_capo_mice_weight,on=\"Mouse ID\")\n",
    "df_capo_avg.head()\n",
    "\n",
    "plt.xlabel(\"Average Weight (g)\")\n",
    "plt.ylabel(\"Average Tumor Volume (mm3)\")\n",
    "plt.title('Average Tumor Volume by Average Weight for the Drug Capomulin')\n",
    "plt.scatter(df_capo_avg[\"Weight (g)\"],df_capo_avg[\"Tumor Volume (mm3)\"])\n",
    "plt.show()"
   ]
  },
  {
   "cell_type": "markdown",
   "metadata": {},
   "source": [
    "## Correlation and Regression"
   ]
  },
  {
   "cell_type": "code",
   "execution_count": 38,
   "metadata": {},
   "outputs": [
    {
     "data": {
      "image/png": "[encoded data removed]",
      "text/plain": [
       "<Figure size 432x288 with 1 Axes>"
      ]
     },
     "metadata": {
      "needs_background": "light"
     },
     "output_type": "display_data"
    },
    {
     "name": "stdout",
     "output_type": "stream",
     "text": [
      "The correlation between Average Tumor Volume and Average Weight for the Drug Capomulin is 0.84.\n"
     ]
    }
   ],
   "source": [
    "# Calculate the correlation coefficient and linear regression model \n",
    "#for mouse weight and average tumor volume for the Capomulin regimen\n",
    "\n",
    "#utilized formulas from the activity \"08-Ins_Fits_and_Regression\"\n",
    "(slope, intercept, rvalue, pvalue, stderr) = linregress(df_capo_avg[\"Weight (g)\"], df_capo_avg[\"Tumor Volume (mm3)\"])\n",
    "regress_values = df_capo_avg[\"Weight (g)\"] * slope + intercept\n",
    "line_eq = \"y = \" + str(round(slope,2)) + \"x + \" + str(round(intercept,2))\n",
    "plt.scatter(df_capo_avg[\"Weight (g)\"],df_capo_avg[\"Tumor Volume (mm3)\"])\n",
    "plt.plot(df_capo_avg[\"Weight (g)\"],regress_values,\"r-\")\n",
    "plt.annotate(line_eq,(20,36),fontsize=15,color=\"red\")\n",
    "plt.xlabel(\"Average Weight (g)\")\n",
    "plt.ylabel(\"Average Tumor Volume (mm3)\")\n",
    "plt.title('Linear Regression Model Fitted to Average Tumor Volume by Average Weight for the Drug Capomulin')\n",
    "plt.show()\n",
    "\n",
    "#utilized forumlas from the activity \"06-Ins_Correlation_Conundrum\" #if \n",
    "correlation = st.pearsonr(df_capo_avg[\"Weight (g)\"],df_capo_avg[\"Tumor Volume (mm3)\"])\n",
    "print(f\"The correlation between Average Tumor Volume and Average Weight for the Drug Capomulin is {round(correlation[0],2)}.\")"
   ]
  }
 ],
 "metadata": {
  "anaconda-cloud": {},
  "kernelspec": {
   "display_name": "Python 3",
   "language": "python",
   "name": "python3"
  },
  "language_info": {
   "codemirror_mode": {
    "name": "ipython",
    "version": 3
   },
   "file_extension": ".py",
   "mimetype": "text/x-python",
   "name": "python",
   "nbconvert_exporter": "python",
   "pygments_lexer": "ipython3",
   "version": "3.8.5"
  }
 },
 "nbformat": 4,
 "nbformat_minor": 4
}
